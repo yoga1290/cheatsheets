{
 "cells": [
  {
   "cell_type": "markdown",
   "metadata": {},
   "source": [
    "# Outline\n",
    "\n",
    "+ Snippets\n",
    "    + [Derivative](#Derivative)\n",
    "    + [Models](#Models)\n",
    "+ [Numpy](#NumPy)\n",
    "+ Pandas\n",
    "+ Matplotlib\n",
    "+ PyTorch"
   ]
  },
  {
   "cell_type": "markdown",
   "metadata": {},
   "source": [
    "# Environment setup\n",
    "+ Install [Anaconda](https://www.anaconda.com/download/#linux)\n",
    "+ Expose `~/anaconda3/bin` (where `conda` executable biniary)\n",
    "+ Install [PyTorch](https://pytorch.org/): `conda install pytorch torchvision -c pytorch`"
   ]
  },
  {
   "cell_type": "markdown",
   "metadata": {},
   "source": [
    "# Gradient Descent\n",
    "+ [PUML](https://gist.github.com/yoga1290/6ea0e57dd493d4148ac7f0183c1647eb) [SVG](http://www.plantuml.com/plantuml/svg/RLDRJzim67tFhpY21spMDCae5yfbT4oRngIrOftQlXGvjPjOoYLAN9N2-E-p7KH2gIhPhh_lN1mVtrIAbMgL9evtW5YfekfxNYGhrOsaYbTXTv6dtYQFMF3vtFTE1FF5yIddlVCZtWjwPsnnklI3iwD5SD8x5U7-KYR2ZKh6fSWK5zL2JswXwN7WELRAAVGWbSmpo4pFB95F0iyEq0zn1V_2hDPwbHNT9r7c5I5SfXq4bDhIJ9T0WWxIFiGZIuj4L1JxKB50maAHL1VEY-EKeX1CEHhHwErz7zvF1lVVCBeVZWO_1kEVmzzxLbhpNgPCnTULZ596dgWM2Jo209-qI45SlKClFTjoqUv7p1Gskhi6JkPZJ3KcR9hRtIEo-VTek9-9nNKWbnOTq0v801VljttQVtabiZHRBBNsVDE2qZa9t0tz24ho26_03VHVKWEqMminMmtFRl-tmpzZ3RyZwmv2G-I2e5gbPBPDg2iVA65-7jBMTtpPkg2lWzjVksweRO9Fj33XTzGZV4rj6gOuF8ILdscr6PsFjuKQTDYWxH68zlz0v9LFvodg8ymbN3FIzomx_FujE5FYBKCJk5T812ipcKKFfIxX47poQY3SMGthxr3d5UjO9W94Ac7gNwZZjDH6fU1oOTQrOerfdwweE-pzT32rKGC9JA3U4aeanTIC9gTcfhZMKUiUcmpww21NiIZNiX9D-ep7BOUuD2ymMwMXA94lcxTeNb-byiAv4HdNB_y_)\n",
    "![Gradient Descent](http://www.plantuml.com/plantuml/png/RLDRJzim67tFhpY21spMDCae5yfbT4oRngIrOftQlXGvjPjOoYLAN9N2-E-p7KH2gIhPhh_lN1mVtrIAbMgL9evtW5YfekfxNYGhrOsaYbTXTv6dtYQFMF3vtFTE1FF5yIddlVCZtWjwPsnnklI3iwD5SD8x5U7-KYR2ZKh6fSWK5zL2JswXwN7WELRAAVGWbSmpo4pFB95F0iyEq0zn1V_2hDPwbHNT9r7c5I5SfXq4bDhIJ9T0WWxIFiGZIuj4L1JxKB50maAHL1VEY-EKeX1CEHhHwErz7zvF1lVVCBeVZWO_1kEVmzzxLbhpNgPCnTULZ596dgWM2Jo209-qI45SlKClFTjoqUv7p1Gskhi6JkPZJ3KcR9hRtIEo-VTek9-9nNKWbnOTq0v801VljttQVtabiZHRBBNsVDE2qZa9t0tz24ho26_03VHVKWEqMminMmtFRl-tmpzZ3RyZwmv2G-I2e5gbPBPDg2iVA65-7jBMTtpPkg2lWzjVksweRO9Fj33XTzGZV4rj6gOuF8ILdscr6PsFjuKQTDYWxH68zlz0v9LFvodg8ymbN3FIzomx_FujE5FYBKCJk5T812ipcKKFfIxX47poQY3SMGthxr3d5UjO9W94Ac7gNwZZjDH6fU1oOTQrOerfdwweE-pzT32rKGC9JA3U4aeanTIC9gTcfhZMKUiUcmpww21NiIZNiX9D-ep7BOUuD2ymMwMXA94lcxTeNb-byiAv4HdNB_y_\n",
    ")\n",
    "\n",
    "### Stochastic Gradient Descent\n",
    "\n",
    "+ Update loss by one sample at a time\n",
    "+ Sudden increases may occur\n",
    "+ May not be accurate\n",
    "+ Good for big data"
   ]
  },
  {
   "cell_type": "markdown",
   "metadata": {},
   "source": [
    "# Derivative\n",
    "\n",
    "## Partial derivative w respect to u/v"
   ]
  },
  {
   "cell_type": "code",
   "execution_count": null,
   "metadata": {},
   "outputs": [],
   "source": [
    "import torch\n",
    "import matplotlib.pylab as plt\n",
    "import torch.functional as F\n",
    "\n",
    "# Calculate f(u, v) = v * u + u^2 at u = 1, v = 2\n",
    "\n",
    "u = torch.tensor(1.0,requires_grad=True)\n",
    "v = torch.tensor(2.0,requires_grad=True)\n",
    "f = u * v + u ** 2\n",
    "\n",
    "f.backward()\n",
    "print(\"The result of v * u + u^2: \", f)\n",
    "print(\"The partial derivative with respect to u: \", u.grad)\n",
    "print(\"The partial derivative with respect to v: \", v.grad)"
   ]
  },
  {
   "cell_type": "markdown",
   "metadata": {},
   "source": [
    "## Calculate the derivative with multiple values"
   ]
  },
  {
   "cell_type": "code",
   "execution_count": null,
   "metadata": {},
   "outputs": [],
   "source": [
    "x = torch.linspace(-10, 10, 10, requires_grad = True)\n",
    "Y = x ** 2\n",
    "y = torch.sum(x ** 2)"
   ]
  },
  {
   "cell_type": "markdown",
   "metadata": {},
   "source": [
    "# Models"
   ]
  },
  {
   "cell_type": "markdown",
   "metadata": {},
   "source": [
    "## Torch.nn.[Model](https://pytorch.org/docs/stable/nn.html#torch.nn.Module)"
   ]
  },
  {
   "cell_type": "code",
   "execution_count": null,
   "metadata": {},
   "outputs": [],
   "source": [
    "from torch import nn\n",
    "\n",
    "# Customize Linear Regression Class\n",
    "\n",
    "class LR(nn.Module):\n",
    "    \n",
    "    # Constructor\n",
    "    def __init__(self, input_size, output_size):\n",
    "        \n",
    "        # Inherit from parent\n",
    "        super(LR, self).__init__()\n",
    "        self.linear = nn.Linear(input_size, output_size) #TODO\n",
    "    \n",
    "    # Prediction function\n",
    "    def forward(self, x):\n",
    "        out = self.linear(x)\n",
    "        return out"
   ]
  },
  {
   "cell_type": "markdown",
   "metadata": {},
   "source": [
    "## Linear Regression"
   ]
  },
  {
   "cell_type": "code",
   "execution_count": null,
   "metadata": {},
   "outputs": [],
   "source": [
    "import torch\n",
    "from torch.nn import Linear\n",
    "\n",
    "# in_features = len(W)\n",
    "model = Linear(in_features=1, out_features=1, bias=True)\n",
    "\n",
    "# b + wx\n",
    "print('b, w[]', list( model.parameters() ))\n",
    "\n",
    "\n",
    "x = torch.tensor([[0]])\n",
    "yhat = model(x)\n",
    "\n",
    "print(yhat)"
   ]
  },
  {
   "cell_type": "markdown",
   "metadata": {},
   "source": [
    "# Cost/Loss\n",
    "\n",
    "## Mean Square Error\n",
    "\n",
    "+ [torch.nn.MSELoss(size_average=None, reduce=None, reduction='elementwise_mean')](https://pytorch.org/docs/stable/nn.html#torch.nn.MSELoss)"
   ]
  },
  {
   "cell_type": "code",
   "execution_count": null,
   "metadata": {},
   "outputs": [],
   "source": [
    "import torch\n",
    "\n",
    "def criterion(yhat, y):\n",
    "    return torch.mean((yhat - y) ** 2)"
   ]
  },
  {
   "cell_type": "markdown",
   "metadata": {},
   "source": [
    "# NumPy\n",
    "\n",
    "#### [linspace(start, stop, num=50, endpoint=True, retstep=False, dtype=None)](https://docs.scipy.org/doc/numpy-1.13.0/reference/generated/numpy.linspace.html)\n",
    "+ Return evenly spaced numbers over a specified interval."
   ]
  },
  {
   "cell_type": "code",
   "execution_count": 2,
   "metadata": {},
   "outputs": [
    {
     "name": "stdout",
     "output_type": "stream",
     "text": [
      "[-2. -1.  0.  1.  2.]\n",
      "[-2]\n"
     ]
    }
   ],
   "source": [
    "from torch import arange\n",
    "from numpy import linspace\n",
    "\n",
    "print( linspace(-2, 2 ,5) )\n",
    "print( arange(-2, 2 ,5).numpy() )"
   ]
  },
  {
   "cell_type": "markdown",
   "metadata": {},
   "source": [
    "# PyTorch\n",
    "#### torch.tensor( , [requires_grad=True, dtype=torch.int8|uint8|int16/short|half|float|int|double|long, device=cuda0])\n",
    "+ .zeros()\n",
    "+ .ones()\n",
    "+ .pow(2)\n",
    "+ .sum()\n",
    "+ .ndimension()\n",
    "+ .numpy()\n",
    "+ .shape\n",
    "+ .dtype\n",
    "+ [begin_row **\\:** end_row **\\,** begin_column **\\:** end_column]"
   ]
  },
  {
   "cell_type": "code",
   "execution_count": null,
   "metadata": {},
   "outputs": [],
   "source": [
    "from torch import ones\n",
    "from torch import zeros\n",
    "\n",
    "print(zeros((2,)))\n",
    "print(ones((2,2)).numpy().shape)"
   ]
  },
  {
   "cell_type": "markdown",
   "metadata": {},
   "source": [
    "### [arange(start=0, end, step=1, out=None, dtype=None, layout=torch.strided, device=None, requires_grad=False).view()](https://pytorch.org/docs/stable/torch.html#torch.arange)\n",
    "\n",
    "### [reshape(input, shape)](https://pytorch.org/docs/stable/torch.html#torch.reshape)"
   ]
  },
  {
   "cell_type": "code",
   "execution_count": null,
   "metadata": {},
   "outputs": [],
   "source": [
    "from torch import arange\n",
    "from torch import reshape\n",
    "\n",
    "print( arange(-2, 2, 1) ) # 1 Row\n",
    "\n",
    "print( arange(-2, 2, 1).view(-1, 1) ) # 1 Column\n",
    "print( reshape(arange(-2, 2, 1), (-1, 1)) ) # same"
   ]
  },
  {
   "cell_type": "markdown",
   "metadata": {},
   "source": []
  }
 ],
 "metadata": {
  "kernelspec": {
   "display_name": "Python 3",
   "language": "python",
   "name": "python3"
  },
  "language_info": {
   "codemirror_mode": {
    "name": "ipython",
    "version": 3
   },
   "file_extension": ".py",
   "mimetype": "text/x-python",
   "name": "python",
   "nbconvert_exporter": "python",
   "pygments_lexer": "ipython3",
   "version": "3.7.0"
  }
 },
 "nbformat": 4,
 "nbformat_minor": 2
}
