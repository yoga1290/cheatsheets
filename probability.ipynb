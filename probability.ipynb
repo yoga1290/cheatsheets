{
  "nbformat": 4,
  "nbformat_minor": 0,
  "metadata": {
    "colab": {
      "name": "probability.ipynb",
      "version": "0.3.2",
      "provenance": [],
      "collapsed_sections": []
    },
    "kernelspec": {
      "name": "python3",
      "display_name": "Python 3"
    }
  },
  "cells": [
    {
      "metadata": {
        "id": "sJuD0ebgDMF_",
        "colab_type": "text"
      },
      "cell_type": "markdown",
      "source": [
        "### Binomial Coefficient\n",
        "\n",
        "$$ n^{\\underline k} = n (n-1) ...  (n - k +1)\n",
        "\\\\= \\frac {n!}{(n - k)!} \n",
        "\\\\ = k! \\begin{pmatrix} n \\\\ k\\end{pmatrix} $$\n",
        "\n",
        "---\n",
        "\n",
        "$$ \\begin{pmatrix} n \\\\ k\\end{pmatrix} \n",
        "= \\begin{pmatrix} n \\\\ n-k\\end{pmatrix}\n",
        "\\\\ = \\frac {n}  {k}  \\begin{pmatrix} n - 1 \\\\ k-1\\end{pmatrix}\n",
        "\\\\ = \\frac {n^{\\underline k}}  {k!} =\\frac {n!}{k! (n - k)!} $$\n",
        "\n",
        "**notes:**\n",
        "+ [choosing (n-K) can be interpreted as choosing negative Ks](https://courses.edx.org/courses/course-v1:UCSanDiegoX+DSE210x+1T2019/discussion/forum/48209d407282bfb97ed1afea58e0be3ca46d2bf7/threads/5c5524f658adcb0986001c1e)\n",
        "\n",
        "---\n",
        "\n",
        "$$\\begin{pmatrix} n \\\\ 2\\end{pmatrix} = \\frac {n!}{ 2 (n - 2)!} = \\frac {n (n-1)}{2} $$\n",
        "\n",
        "---\n",
        "\n",
        "ref: [[Partial Permutations](https://youtu.be/Ode7YZQqCv0?t=5m38s)]\n",
        "[[Combinations](https://youtu.be/Q5otuIBefCk)]\n",
        "\n",
        "examples: [[1](https://youtu.be/RBI4BuAyHgM?t=323)]\n",
        "\n",
        "---\n",
        "[Pascal's Triangle](https://youtu.be/ajAHgo2ybdo?t=360):\n",
        "$$ \\begin{pmatrix} n+1 \\\\ k\\end{pmatrix} \n",
        "= \\begin{pmatrix} n \\\\ k\\end{pmatrix} + \\begin{pmatrix} n \\\\ k-1 \\end{pmatrix} $$\n",
        "\n",
        "---\n",
        "\n",
        "[Binomial Theorem](https://youtu.be/ajAHgo2ybdo?t=470):\n",
        "$$ (a + b)^n = \\sum \\begin{pmatrix} n \\\\ i\\end{pmatrix} a^{n - i} b^i$$\n",
        "\n",
        "\n",
        "[Polynomial Coefficient](https://youtu.be/ajAHgo2ybdo?t=851):\n",
        "$$ (1 + x)^n = \\sum \\begin{pmatrix} n \\\\ i\\end{pmatrix} x^i$$\n",
        "\n",
        "\n",
        "[Binomial $\\rightarrow$ Taylor expansion](https://youtu.be/ajAHgo2ybdo?t=1112):\n",
        "\n",
        "$n\\rightarrow\\infty$:\n",
        "$$ \\begin{pmatrix} 1 + \\frac {x}{n}\\end{pmatrix}^n = \\sum \\frac {x^i}{i!} = e^x$$\n",
        "\n",
        "[Binomial Distribution](https://youtu.be/ajAHgo2ybdo?t=1233):\n",
        "$$\\sum\\begin{pmatrix} n \\\\ i \\end{pmatrix} p^{n-i} (1-p)^i = (p + (1 - p))^n = 1^n = 1$$"
      ]
    },
    {
      "metadata": {
        "id": "HApBKgGFDM0w",
        "colab_type": "code",
        "colab": {}
      },
      "cell_type": "code",
      "source": [
        ""
      ],
      "execution_count": 0,
      "outputs": []
    },
    {
      "metadata": {
        "id": "DWBB44mSEE2-",
        "colab_type": "code",
        "outputId": "cfd491fd-ca1a-4b31-cb15-e03e6f557ce6",
        "colab": {
          "base_uri": "https://localhost:8080/",
          "height": 178
        }
      },
      "cell_type": "code",
      "source": [
        "def bc(n, k):\n",
        "  nf, dnk, kf = 1,1,1\n",
        "  for i in range(1, n+1):\n",
        "    nf *= i\n",
        "  for i in range(1, n-k+1):\n",
        "    dnk *= i\n",
        "  for i in range(1, k+1):\n",
        "    kf *= i\n",
        "  return nf/(kf*dnk)\n",
        "\n",
        "print('lines in 10 point plane where no 3 can form one', bc(10, 2) )\n",
        "print('... must contain a point', bc(9, 2) * 1)\n",
        "print('... must contain 2 certain points', bc(8, 1) * 1 * 1)\n",
        "\n",
        "\n",
        "print(bc(10, 4))\n",
        "print(bc(10, 5))\n",
        "print(bc(10, 6))\n",
        "print(bc(9, 5) + bc(9, 6))\n",
        "\n",
        "print(bc(7, 3))\n",
        "print(bc(6, 3))"
      ],
      "execution_count": 1,
      "outputs": [
        {
          "output_type": "stream",
          "text": [
            "lines in 10 point plane where no 3 can form one 45.0\n",
            "... must contain a point 36.0\n",
            "... must contain 2 certain points 8.0\n",
            "210.0\n",
            "252.0\n",
            "210.0\n",
            "210.0\n",
            "35.0\n",
            "20.0\n"
          ],
          "name": "stdout"
        }
      ]
    },
    {
      "metadata": {
        "id": "IknBZSDU1Dh-",
        "colab_type": "text"
      },
      "cell_type": "markdown",
      "source": [
        ""
      ]
    }
  ]
}